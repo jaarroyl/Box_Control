{
 "cells": [
  {
   "cell_type": "code",
   "execution_count": 1,
   "metadata": {},
   "outputs": [],
   "source": [
    "#Importación de librerias\r\n",
    "from imutils.video import VideoStream\r\n",
    "from imutils.video import FPS\r\n",
    "import imutils\r\n",
    "import numpy as np\r\n",
    "import cv2\r\n",
    "import time"
   ]
  },
  {
   "cell_type": "code",
   "execution_count": 211,
   "metadata": {},
   "outputs": [],
   "source": [
    "def auto_canny(image, sigma=0.33):\r\n",
    "\t# compute the median of the single channel pixel intensities\r\n",
    "\tv = np.median(image)\r\n",
    "\r\n",
    "\t# apply automatic Canny edge detection using the computed median\r\n",
    "\tlower = int(max(0, (1.0 - sigma) * v))\r\n",
    "\tupper = int(min(255, (1.0 + sigma) * v))\r\n",
    "\tedged = cv2.Canny(image, lower, upper)\r\n",
    "\r\n",
    "\t# return the edged image\r\n",
    "\treturn edged\r\n",
    "\r\n",
    "color_dict_HSV = {'black': [[180, 255, 30], [0, 0, 0]],\r\n",
    "              'white': [[180, 18, 255], [0, 0, 231]],\r\n",
    "              'red1': [[180, 255, 255], [159, 50, 70]],\r\n",
    "              'red2': [[9, 255, 255], [0, 50, 70]],\r\n",
    "              'green': [[89, 255, 255], [36, 50, 70]],\r\n",
    "              'blue': [[128, 255, 255], [90, 50, 70]],\r\n",
    "              'yellow': [[35, 255, 255], [25, 50, 70]],\r\n",
    "              'purple': [[158, 255, 255], [129, 50, 70]],\r\n",
    "              'orange': [[24, 255, 255], [10, 50, 70]],\r\n",
    "              'gray': [[180, 18, 230], [0, 0, 40]],\r\n",
    "\t\t\t  'brown': [[25, 100, 97], [24, 33, 18]]}\r\n"
   ]
  },
  {
   "cell_type": "code",
   "execution_count": 192,
   "metadata": {},
   "outputs": [
    {
     "name": "stdout",
     "output_type": "stream",
     "text": [
      "[[[ 11 139  79]]]\n"
     ]
    }
   ],
   "source": [
    "# Buscar Colores\r\n",
    "gray = np.uint8([[[36, 52, 79]]])\r\n",
    "hsv_gray = cv2.cvtColor(gray,cv2.COLOR_BGR2HSV)\r\n",
    "print( hsv_gray )"
   ]
  },
  {
   "cell_type": "code",
   "execution_count": 215,
   "metadata": {},
   "outputs": [
    {
     "name": "stdout",
     "output_type": "stream",
     "text": [
      "[INFO] accessing video stream...\n"
     ]
    }
   ],
   "source": [
    "# Rangos para filtros HSV\r\n",
    "lower_color = np.array([5, 70 , 60])\r\n",
    "upper_color = np.array([50, 150, 255])\r\n",
    "\r\n",
    "# Inicializar video streams\r\n",
    "print(\"[INFO] accessing video stream...\")\r\n",
    "cap = cv2.VideoCapture(\"IMG_3077.mov\")\r\n",
    "\r\n",
    "#Verificar si la camara esta abiera\r\n",
    "if (cap.isOpened()==False):\r\n",
    "\tprint(\"[INFO] No fue posible abrir el video, favor reintente\")\r\n",
    "\r\n",
    "#Leer el video hasta que se complete\r\n",
    "while(cap.isOpened()):\r\n",
    "\t#Leer frame-by-frame\r\n",
    "\tret, frame = cap.read()\r\n",
    "\tif ret == True:\r\n",
    "\t\tframe = imutils.resize(frame, height=600)\r\n",
    "\t\t\r\n",
    "\t\t#-----------------------------------------------------------------------\r\n",
    "\t\t# Filtro de color\r\n",
    "\t\thsv_img = cv2.cvtColor(frame, cv2.COLOR_BGR2HSV)\r\n",
    "\t\t# Configurar mascara\r\n",
    "\t\tmask = cv2.inRange(hsv_img, lower_color, upper_color)\r\n",
    "\t\t# Aplicar mascara\r\n",
    "\t\tres = cv2.bitwise_and(frame, frame, mask=mask)\r\n",
    "\t\t# Resultados\r\n",
    "\t\tcv2.imshow('mask', mask)\r\n",
    "\t\tcv2.imshow('Filtered Color Only', res)\r\n",
    "\r\n",
    "\t\t#-----------------------------------------------------------------------\r\n",
    "\t\t# Video en grayscale\r\n",
    "\t\troi = res[300:500, 0:300]\r\n",
    "\t\tgray = cv2.cvtColor(roi, cv2.COLOR_BGR2GRAY)\r\n",
    "\t\tblurred = cv2.GaussianBlur(gray, (5, 5), 0)\r\n",
    "\t\tthresh = cv2.threshold(blurred, 125, 255, cv2.THRESH_BINARY_INV + cv2.THRESH_OTSU)[1]\r\n",
    "\t\t#Aplicar Auto Canny\r\n",
    "\t\tedges = auto_canny(thresh)\r\n",
    "\r\n",
    "\t\t#------------------------------------------------------------------------\r\n",
    "\t\t##Usar componentes conectados para filtrar datos\r\n",
    "\r\n",
    "\t\t#AQUI...\r\n",
    "\r\n",
    "\r\n",
    "\t\t# Encontrar contornos\r\n",
    "\t\tcontours, _ = cv2.findContours(gray, cv2.RETR_EXTERNAL, cv2.CHAIN_APPROX_SIMPLE)\r\n",
    "\t\t\r\n",
    "\t\t# Por cada contorno...\r\n",
    "\t\tfor cnt in contours:\r\n",
    "\t\t\t(x, y, w, h) = cv2.boundingRect(cnt)\r\n",
    "\t\t\t# Calcula el area\r\n",
    "\t\t\tarea = cv2.contourArea(cnt)\r\n",
    "\t\t\t\r\n",
    "\t\t\t# Distinguir entre caja grande, mediana o pequeña\r\n",
    "\t\t\tif area > 100 and area <= 500:\r\n",
    "\t\t\t\t# Caja pequeña\r\n",
    "\t\t\t\tcv2.rectangle(roi, (x, y), (x + w, y + h), (0, 0, 255), 2)\r\n",
    "\t\t\t\tcv2.putText(roi, \"Caja pequeña - Area: \" + str(area), (x,y+30), 1, 1, (0,0,255))\r\n",
    "\t\t\telif area > 500 and area <= 900:\r\n",
    "\t\t\t\t# Caja mediana\r\n",
    "\t\t\t\tcv2.rectangle(roi, (x, y), (x + w, y + h), (255, 0, 0), 2)\r\n",
    "\t\t\t\tcv2.putText(roi, \"Caja mediana - Area: \" + str(area), (x,y+30), 1, 1, (255,0,0))\r\n",
    "\t\t\telif area > 900:\r\n",
    "\t\t\t\t# Caja grande\r\n",
    "\t\t\t\tcv2.rectangle(roi, (x, y), (x + w, y + h), (0, 255, 0), 2)\r\n",
    "\t\t\t\tcv2.putText(roi, \"Caja grande - Area: \" + str(area), (x,y+30), 1, 1, (0, 255, 0))\r\n",
    "\t\t\t\r\n",
    "\t\t\t#cv2.putText(roi, str(area), (x, y), 1, 1, (0, 255, 0))\t\r\n",
    "\t\t\r\n",
    "\t\tcv2.imshow(\"Original\", frame)\r\n",
    "\t\tcv2.imshow(\"Gray Color\", gray)\r\n",
    "\t\tcv2.imshow(\"Canny\", edges)\r\n",
    "\t\tcv2.imshow(\"Thresh\", thresh)\r\n",
    "\t\tcv2.imshow(\"ROI\", roi)\r\n",
    "\r\n",
    "\t\t# Mostrar video\r\n",
    "\t\t#cv2.imshow(\"Original\", frame)\r\n",
    "\t\t# Si se apreta la tecla q, el video se detiene antes\r\n",
    "\t\tif cv2.waitKey(10) & 0xFF == ord(\"q\"):\r\n",
    "\t\t\tbreak\r\n",
    "\telse:\r\n",
    "\t\tbreak\r\n",
    "\r\n",
    "#Limpiar cache del video en variable cap\r\n",
    "cap.release()\r\n",
    "#Cerrar ventanas\r\n",
    "cv2.destroyAllWindows()"
   ]
  },
  {
   "cell_type": "code",
   "execution_count": null,
   "metadata": {},
   "outputs": [],
   "source": []
  }
 ],
 "metadata": {
  "interpreter": {
   "hash": "36db49dcee4b4c9c86282fdedb4b0e357048661a51d9b895e783c45f127f233c"
  },
  "kernelspec": {
   "display_name": "Python 3.7.3 64-bit ('base': conda)",
   "name": "python3"
  },
  "language_info": {
   "codemirror_mode": {
    "name": "ipython",
    "version": 3
   },
   "file_extension": ".py",
   "mimetype": "text/x-python",
   "name": "python",
   "nbconvert_exporter": "python",
   "pygments_lexer": "ipython3",
   "version": "3.7.3"
  },
  "orig_nbformat": 4
 },
 "nbformat": 4,
 "nbformat_minor": 2
}